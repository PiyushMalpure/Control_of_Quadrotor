{
 "cells": [
  {
   "cell_type": "code",
   "execution_count": 22,
   "id": "69934798",
   "metadata": {},
   "outputs": [],
   "source": [
    "from sympy import symbols, sin, cos, tan, Matrix\n",
    "import sympy\n",
    "import math\n",
    "import numpy as np\n",
    "import QuinticTraj as QT\n",
    "x, y, z, phi, theta, psy, u1, u2, u3, u4, t = symbols('x, y, z, phi, theta, psy, u1, u2, u3, u4, t')\n",
    "dx, dy, dz, dphi, dtheta, dpsy = symbols('dx, dy, dz, dphi, dtheta, dpsy')"
   ]
  },
  {
   "cell_type": "code",
   "execution_count": 23,
   "id": "ab6263e6",
   "metadata": {},
   "outputs": [],
   "source": [
    "q = [x, y, z, phi, theta, psy]\n",
    "u = [u1, u2, u3, u4]\n",
    "dq = [dx, dy, dz, dphi, dtheta, dpsy]"
   ]
  },
  {
   "cell_type": "code",
   "execution_count": 24,
   "id": "7dc9bae8",
   "metadata": {},
   "outputs": [],
   "source": [
    "ten6 = 10**-6\n",
    "m, l, Ix, Iy, Iz, Ip  = 0.027, 0.046, 16.5717*ten6, 16.5717*ten6, 29.2616*ten6, 12.65625*ten6\n",
    "kF, kM, w_max, w_min, g = 1.26192*10**-8, 5.9645*10**-3, 2618, 0, 9.81"
   ]
  },
  {
   "cell_type": "code",
   "execution_count": 25,
   "id": "a92cbef0",
   "metadata": {},
   "outputs": [],
   "source": [
    "# TODO::\n",
    "# Get all desired trajectories from the previous code\n",
    "v0 = [0,0,0]\n",
    "vf = [0,0,0]\n",
    "acc0 = [0,0,0]\n",
    "accf = [0,0,0]\n",
    "points = [[0,0,0], [0, 0, 1], [1, 0, 1], [1, 1, 1], [0, 1, 1], [0, 0, 1]]\n",
    "traj = []\n",
    "tspan = [[0, 5], [5, 20], [20, 35], [35, 50], [50, 65]]\n",
    "for i in range(len(points)-1):\n",
    "    traj_obj = QT.QuinticTraj(tspan[i], points[i], points[i+1], v0, vf, acc0, accf)\n",
    "    traj.append(traj_obj.GenerateQuinticTraj())\n",
    "#x_d = QuinticTraj.calculate_position(t, traj[0])    \n"
   ]
  },
  {
   "cell_type": "code",
   "execution_count": 26,
   "id": "2b8bfe69",
   "metadata": {},
   "outputs": [],
   "source": [
    "# Gives x desired given time t and coefficients \n",
    "# here coefficients are stored in traj[waypoint_set][x/y/z]\n",
    "x_d = traj_obj.calculate_position(t, traj[0][0])\n",
    "y_d = traj_obj.calculate_position(t, traj[0][1])\n",
    "z_d = traj_obj.calculate_position(t, traj[0][2])\n",
    "\n",
    "dx_d = traj_obj.calculate_velocity(t, traj[0][0])\n",
    "dy_d = traj_obj.calculate_velocity(t, traj[0][1])\n",
    "dz_d = traj_obj.calculate_velocity(t, traj[0][2])\n",
    "\n",
    "ddx_d = traj_obj.calculate_acceleration(t, traj[0][0])\n",
    "ddy_d = traj_obj.calculate_acceleration(t, traj[0][1])\n",
    "ddz_d = traj_obj.calculate_acceleration(t, traj[0][2])"
   ]
  },
  {
   "cell_type": "code",
   "execution_count": 29,
   "id": "f4d79a61",
   "metadata": {},
   "outputs": [
    {
     "ename": "AttributeError",
     "evalue": "'ImmutableDenseNDimArray' object has no attribute 'could_extract_minus_sign'",
     "output_type": "error",
     "traceback": [
      "\u001b[0;31m---------------------------------------------------------------------------\u001b[0m",
      "\u001b[0;31mTypeError\u001b[0m                                 Traceback (most recent call last)",
      "File \u001b[0;32m~/sympy/sympy/core/cache.py:72\u001b[0m, in \u001b[0;36m__cacheit.<locals>.func_wrapper.<locals>.wrapper\u001b[0;34m(*args, **kwargs)\u001b[0m\n\u001b[1;32m     71\u001b[0m \u001b[38;5;28;01mtry\u001b[39;00m:\n\u001b[0;32m---> 72\u001b[0m     retval \u001b[38;5;241m=\u001b[39m \u001b[43mcfunc\u001b[49m\u001b[43m(\u001b[49m\u001b[38;5;241;43m*\u001b[39;49m\u001b[43margs\u001b[49m\u001b[43m,\u001b[49m\u001b[43m \u001b[49m\u001b[38;5;241;43m*\u001b[39;49m\u001b[38;5;241;43m*\u001b[39;49m\u001b[43mkwargs\u001b[49m\u001b[43m)\u001b[49m\n\u001b[1;32m     73\u001b[0m \u001b[38;5;28;01mexcept\u001b[39;00m \u001b[38;5;167;01mTypeError\u001b[39;00m:\n",
      "\u001b[0;31mTypeError\u001b[0m: unhashable type: 'numpy.ndarray'",
      "\nDuring handling of the above exception, another exception occurred:\n",
      "\u001b[0;31mTypeError\u001b[0m                                 Traceback (most recent call last)",
      "File \u001b[0;32m~/sympy/sympy/core/cache.py:72\u001b[0m, in \u001b[0;36m__cacheit.<locals>.func_wrapper.<locals>.wrapper\u001b[0;34m(*args, **kwargs)\u001b[0m\n\u001b[1;32m     71\u001b[0m \u001b[38;5;28;01mtry\u001b[39;00m:\n\u001b[0;32m---> 72\u001b[0m     retval \u001b[38;5;241m=\u001b[39m \u001b[43mcfunc\u001b[49m\u001b[43m(\u001b[49m\u001b[38;5;241;43m*\u001b[39;49m\u001b[43margs\u001b[49m\u001b[43m,\u001b[49m\u001b[43m \u001b[49m\u001b[38;5;241;43m*\u001b[39;49m\u001b[38;5;241;43m*\u001b[39;49m\u001b[43mkwargs\u001b[49m\u001b[43m)\u001b[49m\n\u001b[1;32m     73\u001b[0m \u001b[38;5;28;01mexcept\u001b[39;00m \u001b[38;5;167;01mTypeError\u001b[39;00m:\n",
      "\u001b[0;31mTypeError\u001b[0m: unhashable type: 'numpy.ndarray'",
      "\nDuring handling of the above exception, another exception occurred:\n",
      "\u001b[0;31mAttributeError\u001b[0m                            Traceback (most recent call last)",
      "Input \u001b[0;32mIn [29]\u001b[0m, in \u001b[0;36m<module>\u001b[0;34m\u001b[0m\n\u001b[1;32m      7\u001b[0m Fx \u001b[38;5;241m=\u001b[39m m \u001b[38;5;241m*\u001b[39m (\u001b[38;5;241m-\u001b[39mKp \u001b[38;5;241m*\u001b[39m (x \u001b[38;5;241m-\u001b[39m x_d) \u001b[38;5;241m-\u001b[39m Kd \u001b[38;5;241m*\u001b[39m (dx\u001b[38;5;241m-\u001b[39mdx_d) \u001b[38;5;241m+\u001b[39m ddx_d)\n\u001b[1;32m      8\u001b[0m Fy \u001b[38;5;241m=\u001b[39m m \u001b[38;5;241m*\u001b[39m (\u001b[38;5;241m-\u001b[39mKp \u001b[38;5;241m*\u001b[39m (y \u001b[38;5;241m-\u001b[39m y_d) \u001b[38;5;241m-\u001b[39m Kd \u001b[38;5;241m*\u001b[39m (dy\u001b[38;5;241m-\u001b[39mdy_d) \u001b[38;5;241m+\u001b[39m ddy_d)\n\u001b[0;32m----> 9\u001b[0m theta_d \u001b[38;5;241m=\u001b[39m \u001b[43msympy\u001b[49m\u001b[38;5;241;43m.\u001b[39;49m\u001b[43masin\u001b[49m\u001b[43m(\u001b[49m\u001b[43mFx\u001b[49m\u001b[38;5;241;43m/\u001b[39;49m\u001b[43mu1\u001b[49m\u001b[43m)\u001b[49m\n\u001b[1;32m     10\u001b[0m phi_d \u001b[38;5;241m=\u001b[39m \u001b[38;5;241m-\u001b[39msympy\u001b[38;5;241m.\u001b[39masin(Fy\u001b[38;5;241m/\u001b[39mu1)\n",
      "File \u001b[0;32m~/sympy/sympy/core/cache.py:74\u001b[0m, in \u001b[0;36m__cacheit.<locals>.func_wrapper.<locals>.wrapper\u001b[0;34m(*args, **kwargs)\u001b[0m\n\u001b[1;32m     72\u001b[0m     retval \u001b[38;5;241m=\u001b[39m cfunc(\u001b[38;5;241m*\u001b[39margs, \u001b[38;5;241m*\u001b[39m\u001b[38;5;241m*\u001b[39mkwargs)\n\u001b[1;32m     73\u001b[0m \u001b[38;5;28;01mexcept\u001b[39;00m \u001b[38;5;167;01mTypeError\u001b[39;00m:\n\u001b[0;32m---> 74\u001b[0m     retval \u001b[38;5;241m=\u001b[39m \u001b[43mfunc\u001b[49m\u001b[43m(\u001b[49m\u001b[38;5;241;43m*\u001b[39;49m\u001b[43margs\u001b[49m\u001b[43m,\u001b[49m\u001b[43m \u001b[49m\u001b[38;5;241;43m*\u001b[39;49m\u001b[38;5;241;43m*\u001b[39;49m\u001b[43mkwargs\u001b[49m\u001b[43m)\u001b[49m\n\u001b[1;32m     75\u001b[0m \u001b[38;5;28;01mreturn\u001b[39;00m retval\n",
      "File \u001b[0;32m~/sympy/sympy/core/function.py:473\u001b[0m, in \u001b[0;36mFunction.__new__\u001b[0;34m(cls, *args, **options)\u001b[0m\n\u001b[1;32m    465\u001b[0m     \u001b[38;5;28;01mraise\u001b[39;00m \u001b[38;5;167;01mTypeError\u001b[39;00m(temp \u001b[38;5;241m%\u001b[39m {\n\u001b[1;32m    466\u001b[0m         \u001b[38;5;124m'\u001b[39m\u001b[38;5;124mname\u001b[39m\u001b[38;5;124m'\u001b[39m: \u001b[38;5;28mcls\u001b[39m,\n\u001b[1;32m    467\u001b[0m         \u001b[38;5;124m'\u001b[39m\u001b[38;5;124mqual\u001b[39m\u001b[38;5;124m'\u001b[39m: \u001b[38;5;124m'\u001b[39m\u001b[38;5;124mexactly\u001b[39m\u001b[38;5;124m'\u001b[39m \u001b[38;5;28;01mif\u001b[39;00m \u001b[38;5;28mlen\u001b[39m(\u001b[38;5;28mcls\u001b[39m\u001b[38;5;241m.\u001b[39mnargs) \u001b[38;5;241m==\u001b[39m \u001b[38;5;241m1\u001b[39m \u001b[38;5;28;01melse\u001b[39;00m \u001b[38;5;124m'\u001b[39m\u001b[38;5;124mat least\u001b[39m\u001b[38;5;124m'\u001b[39m,\n\u001b[1;32m    468\u001b[0m         \u001b[38;5;124m'\u001b[39m\u001b[38;5;124margs\u001b[39m\u001b[38;5;124m'\u001b[39m: \u001b[38;5;28mmin\u001b[39m(\u001b[38;5;28mcls\u001b[39m\u001b[38;5;241m.\u001b[39mnargs),\n\u001b[1;32m    469\u001b[0m         \u001b[38;5;124m'\u001b[39m\u001b[38;5;124mplural\u001b[39m\u001b[38;5;124m'\u001b[39m: \u001b[38;5;124m'\u001b[39m\u001b[38;5;124ms\u001b[39m\u001b[38;5;124m'\u001b[39m\u001b[38;5;241m*\u001b[39m(\u001b[38;5;28mmin\u001b[39m(\u001b[38;5;28mcls\u001b[39m\u001b[38;5;241m.\u001b[39mnargs) \u001b[38;5;241m!=\u001b[39m \u001b[38;5;241m1\u001b[39m),\n\u001b[1;32m    470\u001b[0m         \u001b[38;5;124m'\u001b[39m\u001b[38;5;124mgiven\u001b[39m\u001b[38;5;124m'\u001b[39m: n})\n\u001b[1;32m    472\u001b[0m evaluate \u001b[38;5;241m=\u001b[39m options\u001b[38;5;241m.\u001b[39mget(\u001b[38;5;124m'\u001b[39m\u001b[38;5;124mevaluate\u001b[39m\u001b[38;5;124m'\u001b[39m, global_parameters\u001b[38;5;241m.\u001b[39mevaluate)\n\u001b[0;32m--> 473\u001b[0m result \u001b[38;5;241m=\u001b[39m \u001b[38;5;28;43msuper\u001b[39;49m\u001b[43m(\u001b[49m\u001b[43m)\u001b[49m\u001b[38;5;241;43m.\u001b[39;49m\u001b[38;5;21;43m__new__\u001b[39;49m\u001b[43m(\u001b[49m\u001b[38;5;28;43mcls\u001b[39;49m\u001b[43m,\u001b[49m\u001b[43m \u001b[49m\u001b[38;5;241;43m*\u001b[39;49m\u001b[43margs\u001b[49m\u001b[43m,\u001b[49m\u001b[43m \u001b[49m\u001b[38;5;241;43m*\u001b[39;49m\u001b[38;5;241;43m*\u001b[39;49m\u001b[43moptions\u001b[49m\u001b[43m)\u001b[49m\n\u001b[1;32m    474\u001b[0m \u001b[38;5;28;01mif\u001b[39;00m evaluate \u001b[38;5;129;01mand\u001b[39;00m \u001b[38;5;28misinstance\u001b[39m(result, \u001b[38;5;28mcls\u001b[39m) \u001b[38;5;129;01mand\u001b[39;00m result\u001b[38;5;241m.\u001b[39margs:\n\u001b[1;32m    475\u001b[0m     pr2 \u001b[38;5;241m=\u001b[39m \u001b[38;5;28mmin\u001b[39m(\u001b[38;5;28mcls\u001b[39m\u001b[38;5;241m.\u001b[39m_should_evalf(a) \u001b[38;5;28;01mfor\u001b[39;00m a \u001b[38;5;129;01min\u001b[39;00m result\u001b[38;5;241m.\u001b[39margs)\n",
      "File \u001b[0;32m~/sympy/sympy/core/cache.py:74\u001b[0m, in \u001b[0;36m__cacheit.<locals>.func_wrapper.<locals>.wrapper\u001b[0;34m(*args, **kwargs)\u001b[0m\n\u001b[1;32m     72\u001b[0m     retval \u001b[38;5;241m=\u001b[39m cfunc(\u001b[38;5;241m*\u001b[39margs, \u001b[38;5;241m*\u001b[39m\u001b[38;5;241m*\u001b[39mkwargs)\n\u001b[1;32m     73\u001b[0m \u001b[38;5;28;01mexcept\u001b[39;00m \u001b[38;5;167;01mTypeError\u001b[39;00m:\n\u001b[0;32m---> 74\u001b[0m     retval \u001b[38;5;241m=\u001b[39m \u001b[43mfunc\u001b[49m\u001b[43m(\u001b[49m\u001b[38;5;241;43m*\u001b[39;49m\u001b[43margs\u001b[49m\u001b[43m,\u001b[49m\u001b[43m \u001b[49m\u001b[38;5;241;43m*\u001b[39;49m\u001b[38;5;241;43m*\u001b[39;49m\u001b[43mkwargs\u001b[49m\u001b[43m)\u001b[49m\n\u001b[1;32m     75\u001b[0m \u001b[38;5;28;01mreturn\u001b[39;00m retval\n",
      "File \u001b[0;32m~/sympy/sympy/core/function.py:285\u001b[0m, in \u001b[0;36mApplication.__new__\u001b[0;34m(cls, *args, **options)\u001b[0m\n\u001b[1;32m    282\u001b[0m     \u001b[38;5;28;01mraise\u001b[39;00m \u001b[38;5;167;01mValueError\u001b[39;00m(\u001b[38;5;124m\"\u001b[39m\u001b[38;5;124mUnknown options: \u001b[39m\u001b[38;5;132;01m%s\u001b[39;00m\u001b[38;5;124m\"\u001b[39m \u001b[38;5;241m%\u001b[39m options)\n\u001b[1;32m    284\u001b[0m \u001b[38;5;28;01mif\u001b[39;00m evaluate:\n\u001b[0;32m--> 285\u001b[0m     evaluated \u001b[38;5;241m=\u001b[39m \u001b[38;5;28;43mcls\u001b[39;49m\u001b[38;5;241;43m.\u001b[39;49m\u001b[43meval\u001b[49m\u001b[43m(\u001b[49m\u001b[38;5;241;43m*\u001b[39;49m\u001b[43margs\u001b[49m\u001b[43m)\u001b[49m\n\u001b[1;32m    286\u001b[0m     \u001b[38;5;28;01mif\u001b[39;00m evaluated \u001b[38;5;129;01mis\u001b[39;00m \u001b[38;5;129;01mnot\u001b[39;00m \u001b[38;5;28;01mNone\u001b[39;00m:\n\u001b[1;32m    287\u001b[0m         \u001b[38;5;28;01mreturn\u001b[39;00m evaluated\n",
      "File \u001b[0;32m~/sympy/sympy/functions/elementary/trigonometric.py:2168\u001b[0m, in \u001b[0;36masin.eval\u001b[0;34m(cls, arg)\u001b[0m\n\u001b[1;32m   2165\u001b[0m \u001b[38;5;28;01mif\u001b[39;00m arg \u001b[38;5;129;01mis\u001b[39;00m S\u001b[38;5;241m.\u001b[39mComplexInfinity:\n\u001b[1;32m   2166\u001b[0m     \u001b[38;5;28;01mreturn\u001b[39;00m S\u001b[38;5;241m.\u001b[39mComplexInfinity\n\u001b[0;32m-> 2168\u001b[0m \u001b[38;5;28;01mif\u001b[39;00m \u001b[43marg\u001b[49m\u001b[38;5;241;43m.\u001b[39;49m\u001b[43mcould_extract_minus_sign\u001b[49m():\n\u001b[1;32m   2169\u001b[0m     \u001b[38;5;28;01mreturn\u001b[39;00m \u001b[38;5;241m-\u001b[39m\u001b[38;5;28mcls\u001b[39m(\u001b[38;5;241m-\u001b[39marg)\n\u001b[1;32m   2171\u001b[0m \u001b[38;5;28;01mif\u001b[39;00m arg\u001b[38;5;241m.\u001b[39mis_number:\n",
      "\u001b[0;31mAttributeError\u001b[0m: 'ImmutableDenseNDimArray' object has no attribute 'could_extract_minus_sign'"
     ]
    }
   ],
   "source": [
    "# Defining desired angular componenets\n",
    "phi_d, dphi_d, dtheta_d, dpsi_d, ddphi_d, ddtheta_d, ddpsi_d = 0,0,0,0,0,0,0 \n",
    "t1,t2,t3 = 1/(4*kF), math.sqrt(2)/(4*kF*l), 1/(4*kM*kF)\n",
    "\n",
    "# We have x_d, y_d, z_d we calculate the theta_d and phi_d from the relations given between x,y,z\n",
    "Kp, Kd = 0.1, 0.1 # PD control Kp, Kd\n",
    "Fx = m * (-Kp * (x - x_d) - Kd * (dx-dx_d) + ddx_d)\n",
    "Fy = m * (-Kp * (y - y_d) - Kd * (dy-dy_d) + ddy_d)\n",
    "theta_d = sympy.asin(Fx/u1)\n",
    "phi_d = -sympy.asin(Fy/u1)"
   ]
  },
  {
   "cell_type": "code",
   "execution_count": 28,
   "id": "ccbb47b0",
   "metadata": {},
   "outputs": [
    {
     "ename": "TypeError",
     "evalue": "unsupported operand type(s) for -: 'list' and 'list'",
     "output_type": "error",
     "traceback": [
      "\u001b[0;31m---------------------------------------------------------------------------\u001b[0m",
      "\u001b[0;31mTypeError\u001b[0m                                 Traceback (most recent call last)",
      "Input \u001b[0;32mIn [28]\u001b[0m, in \u001b[0;36m<module>\u001b[0;34m\u001b[0m\n\u001b[1;32m      7\u001b[0m laambda \u001b[38;5;241m=\u001b[39m \u001b[38;5;241m1\u001b[39m\n\u001b[1;32m      8\u001b[0m qd \u001b[38;5;241m=\u001b[39m [x_d, y_d, z_d, ]\n\u001b[0;32m----> 9\u001b[0m e \u001b[38;5;241m=\u001b[39m \u001b[43mq\u001b[49m\u001b[43m \u001b[49m\u001b[38;5;241;43m-\u001b[39;49m\u001b[43m \u001b[49m\u001b[43mqd\u001b[49m\n\u001b[1;32m     10\u001b[0m de \u001b[38;5;241m=\u001b[39m dq \u001b[38;5;241m-\u001b[39m dqd\n\u001b[1;32m     12\u001b[0m ddx \u001b[38;5;241m=\u001b[39m (u1\u001b[38;5;241m/\u001b[39mm) \u001b[38;5;241m*\u001b[39m ( cos(phi)\u001b[38;5;241m*\u001b[39msin(theta)\u001b[38;5;241m*\u001b[39mcos(psy) \u001b[38;5;241m+\u001b[39m sin(phi)\u001b[38;5;241m*\u001b[39msin(psy) )\n",
      "\u001b[0;31mTypeError\u001b[0m: unsupported operand type(s) for -: 'list' and 'list'"
     ]
    }
   ],
   "source": [
    "w1 = sympy.sqrt( Matrix([t1,-t2,-t2,-t3]).dot( Matrix([u1,u2,u3,u4])) )\n",
    "w2 = sympy.sqrt( Matrix([t1,-t2, t2, t3]).dot( Matrix([u1,u2,u3,u4])) )\n",
    "w3 = sympy.sqrt( Matrix([t1, t2, t2,-t3]).dot( Matrix([u1,u2,u3,u4])) )\n",
    "w4 = sympy.sqrt( Matrix([t1, t2,-t2, t3]).dot( Matrix([u1,u2,u3,u4])) )\n",
    "Omega = w1-w2+w3-w4\n",
    "\n",
    "laambda = 1\n",
    "qd = [x_d, y_d, z_d, ]\n",
    "e = q - qd\n",
    "de = dq - dqd\n",
    "\n",
    "ddx = (u1/m) * ( cos(phi)*sin(theta)*cos(psy) + sin(phi)*sin(psy) )\n",
    "ddy = (u1/m) * ( cos(phi)*sin(theta)*cos(psy) - sin(phi)*sin(psy) )\n",
    "ddz = (u1/m) * ( cos(phi)*cos(theta) ) - g\n",
    "ddphi = dtheta*dpsy + (Iy-Iz)/Ix - Ip/Ix*Omega*dtheta + 1/Ix * u2\n",
    "ddtheta = dphi*dpsy + (Iz-Ix)/Iy - Ip/Iy*Omega*dphi + 1/Iy * u3\n",
    "ddpsy = dtheta*dphi + (Ix-Iy)/Iz - 1/Iz * u4\n",
    "\n",
    "#s = de + laambda * e\n",
    "\n",
    "# Define sliding control law for z, phi, theta, psy"
   ]
  },
  {
   "cell_type": "code",
   "execution_count": null,
   "id": "a5110203",
   "metadata": {},
   "outputs": [],
   "source": []
  }
 ],
 "metadata": {
  "kernelspec": {
   "display_name": "Python 3 (ipykernel)",
   "language": "python",
   "name": "python3"
  },
  "language_info": {
   "codemirror_mode": {
    "name": "ipython",
    "version": 3
   },
   "file_extension": ".py",
   "mimetype": "text/x-python",
   "name": "python",
   "nbconvert_exporter": "python",
   "pygments_lexer": "ipython3",
   "version": "3.8.10"
  }
 },
 "nbformat": 4,
 "nbformat_minor": 5
}
